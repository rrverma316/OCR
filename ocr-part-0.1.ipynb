{
 "cells": [
  {
   "cell_type": "code",
   "execution_count": 1,
   "id": "d3121110",
   "metadata": {},
   "outputs": [],
   "source": [
    "import cv2\n",
    "from PIL import Image"
   ]
  },
  {
   "cell_type": "code",
   "execution_count": 3,
   "id": "675b1f44",
   "metadata": {},
   "outputs": [],
   "source": [
    "im_file='data/page_01.jpg'\n",
    "im=Image.open(im_file)"
   ]
  },
  {
   "cell_type": "code",
   "execution_count": 13,
   "id": "b89becae",
   "metadata": {},
   "outputs": [],
   "source": [
    "im.save('temp/page_01.jpg')"
   ]
  },
  {
   "cell_type": "code",
   "execution_count": 19,
   "id": "86268e9a",
   "metadata": {},
   "outputs": [
    {
     "data": {
      "text/plain": [
       "(0, 0, 1200, 1522)"
      ]
     },
     "execution_count": 19,
     "metadata": {},
     "output_type": "execute_result"
    }
   ],
   "source": [
    "im.getbbox()"
   ]
  },
  {
   "cell_type": "code",
   "execution_count": 108,
   "id": "45946ee7",
   "metadata": {},
   "outputs": [
    {
     "name": "stdout",
     "output_type": "stream",
     "text": [
      "(1200, 1522)\n",
      "(0, 0, 1200, 1522)\n"
     ]
    }
   ],
   "source": [
    "from PIL import Image\n",
    "import sys\n",
    "\n",
    "image=Image.open('data/page_01.jpg')\n",
    "image.load()\n",
    "\n",
    "imageSize = image.size\n",
    "imageBox = image.getbbox()\n",
    "imageComponents = image.split()\n",
    "rgbImage = Image.new(\"RGB\", imageSize, (0,0,0))\n",
    "print(imageSize)\n",
    "print(imageBox)\n",
    "imageComponent=img[50:180, 100:300]\n",
    "\n",
    "rgbImage.paste(image, mask=imageComponents[1])\n",
    "# print(rgbImage)\n",
    "croppedBox = rgbImage.getbbox()\n",
    "# print(imageBox)\n",
    "croppedBoxa=120,160,1090,1400\n",
    "# print(croppedBoxa)\n",
    "# print(croppedBox)\n",
    "if imageBox != croppedBoxa:\n",
    "    \n",
    "    cropped=image.crop(croppedBoxa)\n",
    "#     print('L_2d.png:', \"Size:\", imageSize, \"New Size:\",croppedBoxa)\n",
    "    cropped.save('cropped.png')\n",
    "#     cropped.show()"
   ]
  },
  {
   "cell_type": "code",
   "execution_count": 58,
   "id": "48c5ad00",
   "metadata": {},
   "outputs": [
    {
     "data": {
      "text/plain": [
       "(<PIL.Image.Image image mode=L size=1200x1522>,\n",
       " <PIL.Image.Image image mode=L size=1200x1522>,\n",
       " <PIL.Image.Image image mode=L size=1200x1522>)"
      ]
     },
     "execution_count": 58,
     "metadata": {},
     "output_type": "execute_result"
    }
   ],
   "source": [
    "image.split()"
   ]
  },
  {
   "cell_type": "code",
   "execution_count": 59,
   "id": "b0b9c097",
   "metadata": {},
   "outputs": [
    {
     "data": {
      "text/plain": [
       "(1200, 1522)"
      ]
     },
     "execution_count": 59,
     "metadata": {},
     "output_type": "execute_result"
    }
   ],
   "source": [
    "imageSize"
   ]
  },
  {
   "cell_type": "code",
   "execution_count": 1,
   "id": "243c9c67",
   "metadata": {},
   "outputs": [
    {
     "name": "stdout",
     "output_type": "stream",
     "text": [
      "<class 'numpy.ndarray'>\n",
      "Shape of the image (1522, 1200, 3)\n"
     ]
    }
   ],
   "source": [
    "import cv2\n",
    "  \n",
    "img = cv2.imread(\"data/page_01.jpg\")\n",
    "print(type(img))\n",
    "  \n",
    "# Shape of the image\n",
    "print(\"Shape of the image\", img.shape)\n",
    "  \n",
    "# [rows, columns]\n",
    "crop = img[50:180, 100:300]  \n",
    "  \n",
    "cv2.imshow('original', img)\n",
    "cv2.imshow('cropped', crop)\n",
    "# cv2.waitKey(0)\n",
    "cv2.destroyAllWindows()"
   ]
  },
  {
   "cell_type": "code",
   "execution_count": 2,
   "id": "d64df9be",
   "metadata": {},
   "outputs": [],
   "source": [
    "img_file=cv2.imread('data/page_01.jpg')\n"
   ]
  },
  {
   "cell_type": "code",
   "execution_count": 7,
   "id": "179c52ea",
   "metadata": {},
   "outputs": [
    {
     "data": {
      "text/plain": [
       "True"
      ]
     },
     "execution_count": 7,
     "metadata": {},
     "output_type": "execute_result"
    }
   ],
   "source": [
    "# Inverted Images\n",
    "img_inverst=cv2.bitwise_not(img_file)\n",
    "cv2.imwrite('data/inverted.jpg',img_inverst)"
   ]
  },
  {
   "cell_type": "code",
   "execution_count": 9,
   "id": "b2fd8901",
   "metadata": {},
   "outputs": [],
   "source": [
    "def grayscale(image):\n",
    "    return cv2.cvtColor(image,cv2.COLOR_BGR2GRAY)"
   ]
  },
  {
   "cell_type": "code",
   "execution_count": 11,
   "id": "7e20dedf",
   "metadata": {},
   "outputs": [
    {
     "data": {
      "text/plain": [
       "-1"
      ]
     },
     "execution_count": 11,
     "metadata": {},
     "output_type": "execute_result"
    }
   ],
   "source": [
    "gray_image=grayscale(img_file)\n",
    "cv2.imwrite('data/gray_scale.jpg',gray_image)\n",
    "cv2.imshow('orginal',gray_image)\n",
    "cv2.waitKey(0)"
   ]
  },
  {
   "cell_type": "code",
   "execution_count": null,
   "id": "76938d4a",
   "metadata": {},
   "outputs": [],
   "source": []
  }
 ],
 "metadata": {
  "kernelspec": {
   "display_name": "Python 3 (ipykernel)",
   "language": "python",
   "name": "python3"
  },
  "language_info": {
   "codemirror_mode": {
    "name": "ipython",
    "version": 3
   },
   "file_extension": ".py",
   "mimetype": "text/x-python",
   "name": "python",
   "nbconvert_exporter": "python",
   "pygments_lexer": "ipython3",
   "version": "3.9.13"
  }
 },
 "nbformat": 4,
 "nbformat_minor": 5
}
